{
 "cells": [
  {
   "cell_type": "code",
   "execution_count": 3,
   "id": "ecf42441-b9ab-415f-b5b9-5a56688f9e54",
   "metadata": {},
   "outputs": [
    {
     "name": "stdout",
     "output_type": "stream",
     "text": [
      "\n",
      "--- Hepatitis A, Hillsborough County ---\n"
     ]
    },
    {
     "name": "stdin",
     "output_type": "stream",
     "text": [
      "Total cases in 2022:  80\n",
      "Population:  1780000\n",
      "New cases Jan-May 2023:  19\n",
      "Number of deaths Jan-May 2023:  2\n",
      "Enter ages at death separated by spaces:  64 74\n",
      "Average life expectancy:  77\n"
     ]
    },
    {
     "name": "stdout",
     "output_type": "stream",
     "text": [
      "Prevalence: 4.49 per 100,000\n",
      "Incidence: 1.07 per 100,000\n",
      "Mortality Rate: 0.11 per 100,000\n",
      "YPLL: 16 years\n",
      "\n",
      "--- Salmonella, Miami-Dade ---\n"
     ]
    },
    {
     "name": "stdin",
     "output_type": "stream",
     "text": [
      "Total cases in 2022:  1211\n",
      "Population:  2660000\n",
      "New cases Jan-May 2023:  248\n",
      "Number of deaths Jan-May 2023:  1\n"
     ]
    },
    {
     "name": "stdout",
     "output_type": "stream",
     "text": [
      "Prevalence: 45.53 per 100,000\n",
      "Incidence: 9.32 per 100,000\n",
      "Mortality Rate: 0.04 per 100,000\n",
      "\n",
      "--- Influenza, Flu Season 2021 ---\n"
     ]
    },
    {
     "name": "stdin",
     "output_type": "stream",
     "text": [
      "Initial cases at season start:  500\n",
      "New cases during season:  2500\n",
      "Population:  100000\n",
      "Deaths during flu season:  40\n"
     ]
    },
    {
     "name": "stdout",
     "output_type": "stream",
     "text": [
      "Prevalence: 500.00 per 100,000\n",
      "Incidence: 2500.00 per 100,000\n",
      "Mortality Rate: 40.00 per 100,000\n",
      "\n",
      "--- Chlamydia, Hillsborough County ---\n"
     ]
    },
    {
     "name": "stdin",
     "output_type": "stream",
     "text": [
      "Total cases as of Aug 2022:  12000\n",
      "Population:  1780000\n",
      "New cases Aug-Nov 2022:  3000\n",
      "Deaths Aug-Nov 2022:  5\n",
      "Enter ages at death separated by spaces:  32 45 28 37 52\n",
      "Average life expectancy:  77\n"
     ]
    },
    {
     "name": "stdout",
     "output_type": "stream",
     "text": [
      "Prevalence: 674.16 per 100,000\n",
      "Incidence: 168.54 per 100,000\n",
      "Mortality Rate: 0.28 per 100,000\n",
      "YPLL: 191 years\n"
     ]
    }
   ],
   "source": [
    "# Epidemiology Calculations\n",
    "\n",
    "# ---- FUNCTIONS ----\n",
    "def prevalence(total_cases, population):\n",
    "    return (total_cases / population) * 100000\n",
    "\n",
    "def incidence(new_cases, population):\n",
    "    return (new_cases / population) * 100000\n",
    "\n",
    "def mortality_rate(deaths, population):\n",
    "    return (deaths / population) * 100000\n",
    "\n",
    "def years_potential_life_lost(ages_at_death, life_expectancy):\n",
    "    ypll = sum([life_expectancy - age for age in ages_at_death if age < life_expectancy])\n",
    "    return ypll\n",
    "\n",
    "# ---- SCENARIO 1: Hepatitis A (Hillsborough) ----\n",
    "print(\"\\n--- Hepatitis A, Hillsborough County ---\")\n",
    "total_cases = int(input(\"Total cases in 2022: \"))\n",
    "population = int(input(\"Population: \"))\n",
    "new_cases = int(input(\"New cases Jan-May 2023: \"))\n",
    "deaths = int(input(\"Number of deaths Jan-May 2023: \"))\n",
    "ages = [int(x) for x in input(\"Enter ages at death separated by spaces: \").split()]\n",
    "life_exp = int(input(\"Average life expectancy: \"))\n",
    "\n",
    "print(f\"Prevalence: {prevalence(total_cases, population):.2f} per 100,000\")\n",
    "print(f\"Incidence: {incidence(new_cases, population):.2f} per 100,000\")\n",
    "print(f\"Mortality Rate: {mortality_rate(deaths, population):.2f} per 100,000\")\n",
    "print(f\"YPLL: {years_potential_life_lost(ages, life_exp)} years\")\n",
    "\n",
    "# ---- SCENARIO 2: Salmonella (Miami-Dade) ----\n",
    "print(\"\\n--- Salmonella, Miami-Dade ---\")\n",
    "total_cases = int(input(\"Total cases in 2022: \"))\n",
    "population = int(input(\"Population: \"))\n",
    "new_cases = int(input(\"New cases Jan-May 2023: \"))\n",
    "deaths = int(input(\"Number of deaths Jan-May 2023: \"))\n",
    "\n",
    "print(f\"Prevalence: {prevalence(total_cases, population):.2f} per 100,000\")\n",
    "print(f\"Incidence: {incidence(new_cases, population):.2f} per 100,000\")\n",
    "print(f\"Mortality Rate: {mortality_rate(deaths, population):.2f} per 100,000\")\n",
    "\n",
    "# ---- SCENARIO 3: Influenza (2021 Flu Season) ----\n",
    "print(\"\\n--- Influenza, Flu Season 2021 ---\")\n",
    "total_cases = int(input(\"Initial cases at season start: \"))\n",
    "new_cases = int(input(\"New cases during season: \"))\n",
    "population = int(input(\"Population: \"))\n",
    "deaths = int(input(\"Deaths during flu season: \"))\n",
    "\n",
    "print(f\"Prevalence: {prevalence(total_cases, population):.2f} per 100,000\")\n",
    "print(f\"Incidence: {incidence(new_cases, population):.2f} per 100,000\")\n",
    "print(f\"Mortality Rate: {mortality_rate(deaths, population):.2f} per 100,000\")\n",
    "\n",
    "# ---- SCENARIO 4: Chlamydia (Hillsborough) ----\n",
    "print(\"\\n--- Chlamydia, Hillsborough County ---\")\n",
    "total_cases = int(input(\"Total cases as of Aug 2022: \"))\n",
    "population = int(input(\"Population: \"))\n",
    "new_cases = int(input(\"New cases Aug-Nov 2022: \"))\n",
    "deaths = int(input(\"Deaths Aug-Nov 2022: \"))\n",
    "ages = [int(x) for x in input(\"Enter ages at death separated by spaces: \").split()]\n",
    "life_exp = int(input(\"Average life expectancy: \"))\n",
    "\n",
    "print(f\"Prevalence: {prevalence(total_cases, population):.2f} per 100,000\")\n",
    "print(f\"Incidence: {incidence(new_cases, population):.2f} per 100,000\")\n",
    "print(f\"Mortality Rate: {mortality_rate(deaths, population):.2f} per 100,000\")\n",
    "print(f\"YPLL: {years_potential_life_lost(ages, life_exp)} years\")\n"
   ]
  },
  {
   "cell_type": "code",
   "execution_count": null,
   "id": "aaaefef6-0e38-4050-a04c-eb844c50bfd8",
   "metadata": {},
   "outputs": [],
   "source": []
  },
  {
   "cell_type": "code",
   "execution_count": null,
   "id": "f317a664-e26a-4b2e-8b06-82b39d38d567",
   "metadata": {},
   "outputs": [],
   "source": []
  }
 ],
 "metadata": {
  "kernelspec": {
   "display_name": "Python [conda env:base] *",
   "language": "python",
   "name": "conda-base-py"
  },
  "language_info": {
   "codemirror_mode": {
    "name": "ipython",
    "version": 3
   },
   "file_extension": ".py",
   "mimetype": "text/x-python",
   "name": "python",
   "nbconvert_exporter": "python",
   "pygments_lexer": "ipython3",
   "version": "3.13.5"
  }
 },
 "nbformat": 4,
 "nbformat_minor": 5
}
